{
  "cells": [
    {
      "cell_type": "markdown",
      "metadata": {
        "colab_type": "text",
        "id": "view-in-github"
      },
      "source": [
        "<a href=\"https://colab.research.google.com/github/dmorton714/Code-You_assginments/blob/main/Week_2.ipynb\" target=\"_parent\"><img src=\"https://colab.research.google.com/assets/colab-badge.svg\" alt=\"Open In Colab\"/></a>"
      ]
    },
    {
      "cell_type": "markdown",
      "metadata": {
        "id": "bhBCSKvmCXlN"
      },
      "source": [
        "# Assignment 2\n",
        "\n",
        "- [Lists](#Lists)\n",
        "- [For Loops](#For_Loops)\n",
        "- [Slicing](#Slicking)\n",
        "- [Links](#Links)"
      ]
    },
    {
      "cell_type": "markdown",
      "metadata": {
        "id": "OVBbQhRTZr9_"
      },
      "source": [
        "<a id=\"Lists\"></a>\n",
        "## Lists"
      ]
    },
    {
      "cell_type": "markdown",
      "metadata": {
        "id": "Z3VGDk6JCl2p"
      },
      "source": [
        "Lists are used to store multiple items in a single variable.\n",
        "\n",
        "Lists are 1 of 4 built-in data types in Python used to store collections of data. They all have different qualities and usage.\n",
        "The others are:\n",
        " - Tuple\n",
        " - Sets\n",
        " - Dictionary"
      ]
    },
    {
      "cell_type": "markdown",
      "metadata": {
        "id": "CZqRB13XOm7X"
      },
      "source": [
        "First lets review a little from last week.\n",
        "- Make a variable `A` `B` `C`\n",
        "- Assign them the values `1` `2` `3`\n",
        "- Make `A` a `Float`\n",
        "- `B` & `C` an `int`  "
      ]
    },
    {
      "cell_type": "code",
      "execution_count": null,
      "metadata": {
        "id": "oYe_t8z1CkCR"
      },
      "outputs": [],
      "source": [
        "# Define variables A, B, and C\n",
        "A = 1.0  # Assign A as a float\n",
        "B = 2    # Assign B as an int\n",
        "C = 3    # Assign C as an int\n",
        "\n",
        "# Print the types to verify\n",
        "print(f\"A: {A}, type: {type(A)}\")  # Should be float\n",
        "print(f\"B: {B}, type: {type(B)}\")  # Should be int\n",
        "print(f\"C: {C}, type: {type(C)}\")  # Should be int\n",
        "\n",
        "\n"
      ]
    },
    {
      "cell_type": "markdown",
      "metadata": {
        "id": "QNdHWWFODT6p"
      },
      "source": [
        "Now Let's put `A` `B` `C` into a list named `[]` `my_list`\n",
        "<br>\n",
        "`print()` your list to verify it is correct."
      ]
    },
    {
      "cell_type": "code",
      "execution_count": null,
      "metadata": {
        "colab": {
          "base_uri": "https://localhost:8080/"
        },
        "id": "FIlEJNaDDhye",
        "outputId": "730275e1-d65b-407c-9d0e-d37739fcfa6f"
      },
      "outputs": [],
      "source": [
        "# Create a list named my_list and add A, B, and C to it\n",
        "my_list = [A, B, C]\n",
        "\n"
      ]
    },
    {
      "cell_type": "markdown",
      "metadata": {
        "id": "eL2l8tARDlaV"
      },
      "source": [
        "As you can see it printed the values we stored in `A` `B` `C`.\n",
        "<br>\n",
        "As you can see lists can store just about anything.\n",
        "\n",
        "- Integers: Whole numbers without any decimal point, such as 1, 42, -10.\n",
        "- Floats: Real numbers with a decimal point, such as 3.14, 2.718, -0.5.\n",
        "- Strings: Textual data enclosed in single (') or double (\") quotes, such as 'hello', \"Python\", '123'.\n",
        "- Booleans: Logical values representing either `True` or `False`.\n",
        "- Other Lists: Lists can contain other lists as elements, allowing for nested data structures.\n",
        "- Tuples: Immutable sequences of elements, similar to lists but enclosed in parentheses (()).\n",
        "- Dictionaries: Key-value pairs enclosed in curly braces ({}), allowing for mapping between keys and values.\n",
        "- Sets: Unordered collections of unique elements, enclosed in curly braces ({}), useful for operations like union, intersection, and difference.\n",
        "\n",
        "**example below of each**\n",
        "\n",
        "``` python\n",
        "my_list = [1, 3.14, 'hello', True, [5, 6], (7, 8), {'name': 'Alice', 'age': 30}, {1, 2, 3}]\n",
        "\n",
        "```"
      ]
    },
    {
      "cell_type": "markdown",
      "metadata": {
        "id": "cs0F0Nb7SaB9"
      },
      "source": [
        "Let's not explore a couple other things we can do with a list.\n",
        "\n",
        "- Let's get the length of `my_list`\n",
        "- use the `len()` function to this"
      ]
    },
    {
      "cell_type": "code",
      "execution_count": null,
      "metadata": {
        "colab": {
          "base_uri": "https://localhost:8080/"
        },
        "id": "R-5XhkYcD-dT",
        "outputId": "05e8693c-1e4a-42f5-fbae-000f8f23e757"
      },
      "outputs": [],
      "source": []
    },
    {
      "cell_type": "markdown",
      "metadata": {
        "id": "5NJpQ0LwHX7a"
      },
      "source": [
        "We can also use the  `type()` function on the list.\n",
        "\n",
        "If we do this to the list itself it will return that it is a list. <br> More importantly we can find the type of a particular item in the list.\n",
        "\n",
        "- Use the `type()` function on `my_list`\n",
        "- use `[]` square brackets to find the values type in index `1`"
      ]
    },
    {
      "cell_type": "code",
      "execution_count": null,
      "metadata": {
        "colab": {
          "base_uri": "https://localhost:8080/"
        },
        "id": "7VLjV5uAHYGy",
        "outputId": "fbde8ab7-6c89-4680-e7da-de27d2580701"
      },
      "outputs": [],
      "source": []
    },
    {
      "cell_type": "markdown",
      "metadata": {
        "id": "UZ72edHiEfep"
      },
      "source": [
        "In Python, indexing is zero-based, which means that the first element in a sequence has an index of 0, the second element has an index of 1, and so on. This applies to lists, tuples, strings, and other ordered collections.\n"
      ]
    },
    {
      "cell_type": "code",
      "execution_count": null,
      "metadata": {
        "colab": {
          "base_uri": "https://localhost:8080/"
        },
        "id": "IzWW6mJgVSvB",
        "outputId": "647b9070-f98c-4027-a247-5a1b4a2956d6"
      },
      "outputs": [],
      "source": [
        "print(my_list[0])  # Output: 1.0\n",
        "print(my_list[1])  # Output: 2\n",
        "print(my_list[2])  # Output: 3"
      ]
    },
    {
      "cell_type": "markdown",
      "metadata": {
        "id": "dBVwGacQVdO5"
      },
      "source": [
        "\n",
        "\n",
        "---\n",
        "\n"
      ]
    },
    {
      "cell_type": "markdown",
      "metadata": {
        "id": "fFPSw82EHRCE"
      },
      "source": [
        "<a id=\"#For_Loops\"></a>\n",
        "## For Loops"
      ]
    },
    {
      "cell_type": "markdown",
      "metadata": {
        "id": "Cb-q46yiH1FU"
      },
      "source": [
        "A `for` loop is used for iterating over a sequence.\n",
        "\n",
        "That is either a:\n",
        "- list\n",
        "- tuple\n",
        "- dictionary\n",
        "- set\n",
        "- string"
      ]
    },
    {
      "cell_type": "markdown",
      "metadata": {
        "id": "ZDcvmdcBeP86"
      },
      "source": [
        "Let's make a for loop to print `my_list`\n",
        "- start with `for number in my_list:`.\n",
        "- `for number in my_list:` is the line that starts the loop. It means \"for each number in my_list, do something\".\n",
        "- Then hit enter at the end of the line.  \n",
        "- On the next like type `print(number)`\n",
        "- `print(number)` is the indented line inside the loop. It gets executed for each number in my_list.\n",
        "- It then prints each number to the screen.\n"
      ]
    },
    {
      "cell_type": "code",
      "execution_count": null,
      "metadata": {
        "colab": {
          "base_uri": "https://localhost:8080/"
        },
        "id": "x4DF2zeDMEim",
        "outputId": "7036ab65-75c7-45b4-dc93-8c6c16edd8ab"
      },
      "outputs": [],
      "source": []
    },
    {
      "cell_type": "markdown",
      "metadata": {
        "id": "e4M-0bGEjlsA"
      },
      "source": [
        "Building off last week let's add a conditional to the for loop.\n",
        "Let's add the conditional of if a number is equal to 3 we will break the loop.\n",
        "\n",
        "- Copy your loop from above\n",
        "- Make a new line after the `for` statement and above `print`\n",
        "- Add the argument `if number == 3:`\n",
        "- on a line under that indent and put `break`\n",
        "- `if` and `print` should be indented one space\n",
        "- `break` should be 2 spaces"
      ]
    },
    {
      "cell_type": "code",
      "execution_count": null,
      "metadata": {
        "colab": {
          "base_uri": "https://localhost:8080/"
        },
        "id": "hwvEhet5gETL",
        "outputId": "342e2572-05f1-42c7-eb27-9d29435aeb58"
      },
      "outputs": [],
      "source": [
        "for number in my_list:\n",
        "  if number == 3:\n",
        "    break\n",
        "  print(number)"
      ]
    },
    {
      "cell_type": "markdown",
      "metadata": {
        "id": "b5uY29WnmVDI"
      },
      "source": [
        "Here is a practical application of a `for loop` used to Validate a user's name. It verifies they didn't add any symbols. Then will say hello to them."
      ]
    },
    {
      "cell_type": "code",
      "execution_count": null,
      "metadata": {
        "colab": {
          "base_uri": "https://localhost:8080/"
        },
        "id": "Dn8qF_yDNvoZ",
        "outputId": "348faa64-b29c-424c-c025-0f20c89b9a34"
      },
      "outputs": [],
      "source": [
        "# Maximum number of attempts\n",
        "max_attempts = 3\n",
        "\n",
        "# Ask the user for their name and validates the input\n",
        "for _ in range(max_attempts):\n",
        "    users_name = input(\"Please enter your name and hit enter when finished: \")\n",
        "    if users_name.replace(\" \", \"\").isalpha():\n",
        "        print(\"Hello\", users_name)\n",
        "        break\n",
        "    else:\n",
        "        print(\"Invalid input. Please enter only alphabetic characters and spaces.\")\n",
        "else:\n",
        "    print(\"Maximum attempts reached. Please try again later.\")"
      ]
    },
    {
      "cell_type": "markdown",
      "metadata": {
        "id": "32VasFXkOjiP"
      },
      "source": [
        "While for loops may seem complex at first glance, breaking them down into smaller pieces makes them more manageable and easier to understand.\n",
        "\n",
        "---\n",
        "\n"
      ]
    },
    {
      "cell_type": "markdown",
      "metadata": {
        "id": "e78LunrGPBG0"
      },
      "source": [
        "<a id=\"Slicing\"></a>\n",
        "## Slicing\n"
      ]
    },
    {
      "cell_type": "markdown",
      "metadata": {
        "id": "OIbaOwPiQKXu"
      },
      "source": [
        "Sometimes you don't want to use all the data in a list dictionary ect. So sometimes we take a slice of that data.\n",
        "- We will use `my_list` for our example\n",
        "- we use the `[]` square brackets to slice the data\n",
        "- we will also use `:` a colon between the numbers\n",
        "- slice `my_list` from `[0:1]`\n",
        "- Print the slice"
      ]
    },
    {
      "cell_type": "code",
      "execution_count": null,
      "metadata": {
        "colab": {
          "base_uri": "https://localhost:8080/"
        },
        "id": "uu_HCYptQrps",
        "outputId": "9bc09d53-06a4-4263-99bc-e9364553fc81"
      },
      "outputs": [],
      "source": []
    },
    {
      "cell_type": "markdown",
      "metadata": {
        "id": "Okul_jknRCfK"
      },
      "source": [
        "You can also take slices from words or sentences.\n",
        "- Assign this sentence to the variable fox:\n",
        "  - The quick brown fox jumps over the lazy dog\n",
        "- Print the index of  3-15."
      ]
    },
    {
      "cell_type": "code",
      "execution_count": null,
      "metadata": {
        "colab": {
          "base_uri": "https://localhost:8080/"
        },
        "id": "nbyDGyJvVeBT",
        "outputId": "204ecbd5-495d-4f71-9491-578564ba2650"
      },
      "outputs": [],
      "source": []
    },
    {
      "cell_type": "markdown",
      "metadata": {
        "id": "i7gf6CjrY5St"
      },
      "source": [
        "<a id=\"Links\"></a>\n",
        "## Links\n",
        "\n",
        "[Lists](https://www.w3schools.com/python/python_lists.asp)\n",
        "<br>\n",
        "[For Loops](https://www.w3schools.com/python/python_for_loops.asp)\n",
        "<br>\n",
        "[Slice](https://www.w3schools.com/python/python_strings_slicing.asp)"
      ]
    },
    {
      "cell_type": "markdown",
      "metadata": {},
      "source": [
        "## Recap\n",
        "\n",
        "### Lists:\n",
        "Lists are fundamental data structures in Python used to store collections of items. They allow us to group related data together, making it easier to manage and manipulate large sets of information. With lists, we can store different data types, including numbers, strings, and even other lists. This flexibility enables us to represent complex data structures in a simple and intuitive way. Lists are essential because they provide a versatile way to organize and access data, making them a cornerstone of Python programming.\n",
        "\n",
        "### For Loops:\n",
        "For loops are essential control structures in Python used for iterating over sequences such as lists, tuples, strings, and more. They allow us to perform repetitive tasks efficiently by executing a block of code for each item in a sequence. For loops are indispensable for automating tasks like data processing, analysis, and generation. Their simplicity and versatility make them a powerful tool for handling various programming challenges, from simple tasks to complex algorithms. Mastering for loops is crucial for becoming proficient in Python programming.\n",
        "\n",
        "### Slicing:\n",
        "Slicing is a powerful feature in Python used to extract specific portions of a sequence, such as a list or a string. It allows us to retrieve subsets of data based on their position or index within the sequence. Slicing is invaluable for working with large datasets, as it enables us to focus on relevant sections of the data without needing to process the entire dataset at once. This ability to extract and manipulate subsets of data efficiently is essential for tasks like data analysis, text processing, and more. Understanding slicing is essential for harnessing the full potential of Python's data manipulation capabilities."
      ]
    },
    {
      "cell_type": "markdown",
      "metadata": {
        "id": "KrhPMubAYWJI"
      },
      "source": [
        "\n",
        "\n",
        "---\n",
        "\n",
        "# END\n",
        "\n",
        "\n",
        "\n",
        "---\n",
        "\n"
      ]
    }
  ],
  "metadata": {
    "colab": {
      "authorship_tag": "ABX9TyMghdMVSE3AvmboPkPN+2ni",
      "include_colab_link": true,
      "provenance": []
    },
    "kernelspec": {
      "display_name": "Python 3",
      "name": "python3"
    },
    "language_info": {
      "codemirror_mode": {
        "name": "ipython",
        "version": 3
      },
      "file_extension": ".py",
      "mimetype": "text/x-python",
      "name": "python",
      "nbconvert_exporter": "python",
      "pygments_lexer": "ipython3",
      "version": "3.10.5"
    }
  },
  "nbformat": 4,
  "nbformat_minor": 0
}
